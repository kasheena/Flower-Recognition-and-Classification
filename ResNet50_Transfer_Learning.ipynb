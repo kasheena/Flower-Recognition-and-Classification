{
  "cells": [
    {
      "cell_type": "markdown",
      "metadata": {
        "id": "view-in-github",
        "colab_type": "text"
      },
      "source": [
        "<a href=\"https://colab.research.google.com/github/kasheena/Flower-Recognition-and-Classification-using-CNN/blob/main/ResNet50_Transfer_Learning.ipynb\" target=\"_parent\"><img src=\"https://colab.research.google.com/assets/colab-badge.svg\" alt=\"Open In Colab\"/></a>"
      ]
    },
    {
      "cell_type": "code",
      "execution_count": 1,
      "metadata": {
        "colab": {
          "base_uri": "https://localhost:8080/"
        },
        "id": "bA-dQx7Ds81P",
        "outputId": "134454dd-7a49-4fe2-9c34-82bfa2228008"
      },
      "outputs": [
        {
          "output_type": "stream",
          "name": "stdout",
          "text": [
            "flowers  resnet50_weights_tf_dim_ordering_tf_kernels_notop.h5\n"
          ]
        }
      ],
      "source": [
        "import os\n",
        "os.chdir(\"/content/drive/My Drive/content\")\n",
        "!ls"
      ]
    },
    {
      "cell_type": "code",
      "execution_count": 2,
      "metadata": {
        "colab": {
          "base_uri": "https://localhost:8080/"
        },
        "id": "AS4kOJHG1cc8",
        "outputId": "a98c8dc8-710e-4f50-efb3-37d9e11b1903"
      },
      "outputs": [
        {
          "output_type": "stream",
          "name": "stdout",
          "text": [
            "['daisy', 'sunflower', 'rose', 'tulip', 'dandelion']\n"
          ]
        }
      ],
      "source": [
        "import os\n",
        "print(os.listdir('/content/drive/My Drive/content/flowers'))"
      ]
    },
    {
      "cell_type": "code",
      "execution_count": 3,
      "metadata": {
        "colab": {
          "base_uri": "https://localhost:8080/"
        },
        "id": "ssuyzs1BshwC",
        "outputId": "88d49327-7a0d-49c4-8b5f-bc4076a05822"
      },
      "outputs": [
        {
          "output_type": "stream",
          "name": "stdout",
          "text": [
            "['daisy', 'sunflower', 'rose', 'tulip', 'dandelion']\n"
          ]
        }
      ],
      "source": [
        "import numpy as np # linear algebra\n",
        "import pandas as pd # data processing, CSV file I/O (e.g. pd.read_csv)\n",
        "import os\n",
        "import shutil\n",
        "import matplotlib.pyplot as plt\n",
        "%matplotlib inline \n",
        "import keras\n",
        "\n",
        "from IPython.display import Image, display\n",
        "from sklearn.model_selection import train_test_split\n",
        "from tensorflow.keras.applications import ResNet50\n",
        "from tensorflow.keras.models import Sequential\n",
        "from tensorflow.keras.layers import Dense, Flatten, GlobalAveragePooling2D, Dropout\n",
        "from tensorflow.keras.preprocessing.image import ImageDataGenerator\n",
        "\n",
        "\n",
        "import os\n",
        "print(os.listdir('/content/drive/My Drive/content/flowers'))\n",
        "# Any results you write to the current directory are saved as output."
      ]
    },
    {
      "cell_type": "code",
      "execution_count": 4,
      "metadata": {
        "colab": {
          "base_uri": "https://localhost:8080/"
        },
        "id": "miNqK45K17dn",
        "outputId": "871fbd81-5a0a-4ef9-b5d6-eb47b5e4e1a4"
      },
      "outputs": [
        {
          "output_type": "stream",
          "name": "stdout",
          "text": [
            "Downloading data from https://storage.googleapis.com/tensorflow/keras-applications/resnet/resnet50_weights_tf_dim_ordering_tf_kernels_notop.h5\n",
            "94765736/94765736 [==============================] - 1s 0us/step\n",
            "Model: \"sequential\"\n",
            "_________________________________________________________________\n",
            " Layer (type)                Output Shape              Param #   \n",
            "=================================================================\n",
            " resnet50 (Functional)       (None, 2048)              23587712  \n",
            "                                                                 \n",
            " dense (Dense)               (None, 256)               524544    \n",
            "                                                                 \n",
            " dropout (Dropout)           (None, 256)               0         \n",
            "                                                                 \n",
            " dense_1 (Dense)             (None, 5)                 1285      \n",
            "                                                                 \n",
            "=================================================================\n",
            "Total params: 24,113,541\n",
            "Trainable params: 525,829\n",
            "Non-trainable params: 23,587,712\n",
            "_________________________________________________________________\n"
          ]
        },
        {
          "output_type": "stream",
          "name": "stderr",
          "text": [
            "/usr/local/lib/python3.7/dist-packages/keras/optimizers/optimizer_v2/gradient_descent.py:108: UserWarning: The `lr` argument is deprecated, use `learning_rate` instead.\n",
            "  super(SGD, self).__init__(name, **kwargs)\n"
          ]
        }
      ],
      "source": [
        "labels = os.listdir(\"/content/drive/My Drive/content/flowers\")\n",
        "num_classes = len(set(labels))\n",
        "imagenet = '/content/drive/My Drive/content/resnet50_weights_tf_dim_ordering_tf_kernels_notop.h5'\n",
        "\n",
        "# Create model\n",
        "model = Sequential()\n",
        "model.add(ResNet50(include_top=False, pooling='avg', weights='imagenet'))\n",
        "model.add(Dense(256, activation='relu'))\n",
        "model.add(Dropout(0.5))\n",
        "model.add(Dense(num_classes, activation='softmax'))\n",
        "\n",
        "# Do not train first layer (ResNet) as it is already pre-trained\n",
        "model.layers[0].trainable = False\n",
        "model.build(input_shape = (None, 32, 32, 3)\n",
        ")\n",
        "# Compile model\n",
        "from tensorflow.keras import optimizers\n",
        "\n",
        "sgd = optimizers.SGD(lr = 0.01, decay = 1e-6, momentum = 0.9, nesterov = True)\n",
        "model.compile(optimizer='adam', loss='categorical_crossentropy', metrics=['accuracy'])\n",
        "model.summary()"
      ]
    },
    {
      "cell_type": "code",
      "execution_count": 5,
      "metadata": {
        "colab": {
          "base_uri": "https://localhost:8080/"
        },
        "id": "WYeSZ70_6gnm",
        "outputId": "07a804eb-5180-4a7d-d8e4-d14ec53dc1cf"
      },
      "outputs": [
        {
          "output_type": "stream",
          "name": "stdout",
          "text": [
            "Found 3457 images belonging to 5 classes.\n",
            "Found 860 images belonging to 5 classes.\n"
          ]
        }
      ],
      "source": [
        "from tensorflow.keras.applications.vgg16 import preprocess_input\n",
        "train_folder = '/content/drive/My Drive/content/flowers'\n",
        "\n",
        "image_size = 224\n",
        "data_generator = ImageDataGenerator(preprocessing_function=preprocess_input,\n",
        "                                    horizontal_flip=True,\n",
        "                                    width_shift_range=0.2,\n",
        "                                    height_shift_range=0.2,\n",
        "                                    validation_split=0.2)# set validation split\n",
        "\n",
        "train_generator = data_generator.flow_from_directory(\n",
        "    train_folder,\n",
        "    target_size=(image_size, image_size),\n",
        "    batch_size=24,\n",
        "    class_mode='categorical',\n",
        "    subset='training'\n",
        "    )\n",
        "validation_generator = data_generator.flow_from_directory(\n",
        "    train_folder,\n",
        "    target_size=(image_size, image_size),\n",
        "    batch_size=24,\n",
        "    class_mode='categorical',\n",
        "    subset='validation'\n",
        "    )"
      ]
    },
    {
      "cell_type": "code",
      "execution_count": 6,
      "metadata": {
        "colab": {
          "base_uri": "https://localhost:8080/"
        },
        "id": "XQ_EW8rQ8EtG",
        "outputId": "0917ba71-f97b-4a02-cf12-744c12e88284"
      },
      "outputs": [
        {
          "output_type": "stream",
          "name": "stderr",
          "text": [
            "/usr/local/lib/python3.7/dist-packages/ipykernel_launcher.py:20: UserWarning: `Model.fit_generator` is deprecated and will be removed in a future version. Please use `Model.fit`, which supports generators.\n"
          ]
        },
        {
          "output_type": "stream",
          "name": "stdout",
          "text": [
            "Epoch 1/20\n",
            "10/10 [==============================] - 182s 17s/step - loss: 1.7268 - accuracy: 0.4208 - val_loss: 0.7076 - val_accuracy: 0.7375\n",
            "Epoch 2/20\n",
            "10/10 [==============================] - 141s 15s/step - loss: 0.9576 - accuracy: 0.6542 - val_loss: 0.5889 - val_accuracy: 0.7833\n",
            "Epoch 3/20\n",
            "10/10 [==============================] - 121s 12s/step - loss: 0.7095 - accuracy: 0.7417 - val_loss: 0.4058 - val_accuracy: 0.8583\n",
            "Epoch 4/20\n",
            "10/10 [==============================] - 110s 11s/step - loss: 0.6443 - accuracy: 0.7542 - val_loss: 0.4116 - val_accuracy: 0.8458\n",
            "Epoch 5/20\n",
            "10/10 [==============================] - 100s 10s/step - loss: 0.5304 - accuracy: 0.8157 - val_loss: 0.3762 - val_accuracy: 0.8625\n",
            "Epoch 6/20\n",
            "10/10 [==============================] - 102s 10s/step - loss: 0.6316 - accuracy: 0.7750 - val_loss: 0.4458 - val_accuracy: 0.8292\n",
            "Epoch 7/20\n",
            "10/10 [==============================] - 100s 10s/step - loss: 0.5413 - accuracy: 0.8292 - val_loss: 0.3691 - val_accuracy: 0.8542\n",
            "Epoch 8/20\n",
            "10/10 [==============================] - 95s 9s/step - loss: 0.4840 - accuracy: 0.8375 - val_loss: 0.3982 - val_accuracy: 0.8542\n",
            "Epoch 9/20\n",
            "10/10 [==============================] - 92s 9s/step - loss: 0.5060 - accuracy: 0.8000 - val_loss: 0.3549 - val_accuracy: 0.8750\n",
            "Epoch 10/20\n",
            "10/10 [==============================] - 92s 9s/step - loss: 0.4509 - accuracy: 0.8500 - val_loss: 0.3243 - val_accuracy: 0.8917\n",
            "Epoch 11/20\n",
            "10/10 [==============================] - 95s 10s/step - loss: 0.3874 - accuracy: 0.8583 - val_loss: 0.3235 - val_accuracy: 0.8833\n",
            "Epoch 12/20\n",
            "10/10 [==============================] - 88s 9s/step - loss: 0.4547 - accuracy: 0.8083 - val_loss: 0.3853 - val_accuracy: 0.8750\n",
            "Epoch 13/20\n",
            "10/10 [==============================] - 88s 9s/step - loss: 0.4023 - accuracy: 0.8750 - val_loss: 0.3250 - val_accuracy: 0.8708\n",
            "Epoch 14/20\n",
            "10/10 [==============================] - 91s 9s/step - loss: 0.3772 - accuracy: 0.8708 - val_loss: 0.3300 - val_accuracy: 0.8958\n",
            "Epoch 15/20\n",
            "10/10 [==============================] - 86s 9s/step - loss: 0.4512 - accuracy: 0.8500 - val_loss: 0.4556 - val_accuracy: 0.8292\n",
            "Epoch 16/20\n",
            "10/10 [==============================] - 90s 9s/step - loss: 0.4962 - accuracy: 0.8375 - val_loss: 0.2828 - val_accuracy: 0.9083\n",
            "Epoch 17/20\n",
            "10/10 [==============================] - 85s 9s/step - loss: 0.3713 - accuracy: 0.8417 - val_loss: 0.4621 - val_accuracy: 0.8333\n",
            "Epoch 18/20\n",
            "10/10 [==============================] - 91s 9s/step - loss: 0.4828 - accuracy: 0.8458 - val_loss: 0.3072 - val_accuracy: 0.8833\n",
            "Epoch 19/20\n",
            "10/10 [==============================] - 84s 9s/step - loss: 0.3705 - accuracy: 0.8792 - val_loss: 0.3460 - val_accuracy: 0.8667\n",
            "Epoch 20/20\n",
            "10/10 [==============================] - 91s 9s/step - loss: 0.2756 - accuracy: 0.8875 - val_loss: 0.2543 - val_accuracy: 0.9208\n"
          ]
        }
      ],
      "source": [
        "NUM_EPOCHS = 20\n",
        "EARLY_STOP_PATIENCE = 5\n",
        "\n",
        "# Early stopping & checkpointing the best model in ../working dir & restoring that as our model for prediction\n",
        "from tensorflow.keras.callbacks import EarlyStopping, ModelCheckpoint\n",
        "\n",
        "cb_early_stopper = EarlyStopping(monitor = 'val_loss', patience = EARLY_STOP_PATIENCE)\n",
        "cb_checkpointer = ModelCheckpoint(filepath = '../working/best.hdf5',\n",
        "                                  monitor = 'val_loss',\n",
        "                                  save_best_only = True,\n",
        "                                  mode = 'auto')\n",
        "import math\n",
        "\n",
        "fit_history = model.fit_generator(\n",
        "    train_generator,\n",
        "    steps_per_epoch=10,\n",
        "    validation_data=validation_generator,\n",
        "    validation_steps=10,\n",
        "    epochs=NUM_EPOCHS,\n",
        "    callbacks=[cb_checkpointer, cb_early_stopper])\n",
        "model.load_weights(\"../working/best.hdf5\")"
      ]
    },
    {
      "cell_type": "code",
      "execution_count": 7,
      "metadata": {
        "colab": {
          "base_uri": "https://localhost:8080/"
        },
        "id": "A_MwSYB78Nh0",
        "outputId": "95712d88-fd9f-4fe0-cfb7-f6ce84341dd5"
      },
      "outputs": [
        {
          "output_type": "stream",
          "name": "stdout",
          "text": [
            "dict_keys(['loss', 'accuracy', 'val_loss', 'val_accuracy'])\n"
          ]
        }
      ],
      "source": [
        "print(fit_history.history.keys())"
      ]
    },
    {
      "cell_type": "code",
      "execution_count": 13,
      "metadata": {
        "colab": {
          "base_uri": "https://localhost:8080/",
          "height": 276
        },
        "id": "euJmwRKq8QTv",
        "outputId": "88eec894-124a-4b46-ce58-bd3e89f08e69"
      },
      "outputs": [
        {
          "output_type": "display_data",
          "data": {
            "text/plain": [
              "<Figure size 1080x576 with 2 Axes>"
            ],
            "image/png": "[encoded data removed]"
          },
          "metadata": {
            "needs_background": "light"
          }
        }
      ],
      "source": [
        "plt.figure(1, figsize = (15,8)) \n",
        "\n",
        "plt.subplot(221)  \n",
        "plt.plot(fit_history.history['accuracy'])  \n",
        "plt.plot(fit_history.history['val_accuracy'])  \n",
        "plt.title('model accuracy')  \n",
        "plt.ylabel('accuracy')  \n",
        "plt.xlabel('epoch')  \n",
        "plt.legend(['train', 'valid']) \n",
        "    \n",
        "plt.subplot(222)  \n",
        "plt.plot(fit_history.history['loss'])  \n",
        "plt.plot(fit_history.history['val_loss'])  \n",
        "plt.title('model loss')  \n",
        "plt.ylabel('loss')  \n",
        "plt.xlabel('epoch')  \n",
        "plt.legend(['train', 'valid']) \n",
        "\n",
        "plt.show()"
      ]
    }
  ],
  "metadata": {
    "colab": {
      "provenance": [],
      "mount_file_id": "1mDhI1z_PWbKLx08De8Hz3YgFj4GcttCv",
      "authorship_tag": "ABX9TyNzsju5VwSPL4BCMiooJOQq",
      "include_colab_link": true
    },
    "kernelspec": {
      "display_name": "Python 3",
      "name": "python3"
    },
    "language_info": {
      "name": "python"
    }
  },
  "nbformat": 4,
  "nbformat_minor": 0
}