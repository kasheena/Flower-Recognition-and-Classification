{
  "nbformat": 4,
  "nbformat_minor": 0,
  "metadata": {
    "colab": {
      "provenance": [],
      "collapsed_sections": []
    },
    "kernelspec": {
      "name": "python3",
      "display_name": "Python 3"
    },
    "language_info": {
      "name": "python"
    }
  },
  "cells": [
    {
      "cell_type": "code",
      "source": [
        "import pandas as pd\n",
        "import numpy as np\n",
        "import seaborn as sns\n",
        "import matplotlib.pyplot as plt\n",
        "import os\n",
        "import glob\n",
        "import cv2\n",
        "import random\n",
        "import gc\n",
        "\n",
        "from sklearn.model_selection import train_test_split\n",
        "from sklearn.metrics import confusion_matrix, ConfusionMatrixDisplay\n",
        "from sklearn.preprocessing import LabelEncoder\n",
        "import tensorflow as tf\n",
        "from tensorflow.keras.preprocessing.image import load_img, ImageDataGenerator\n",
        "from tensorflow.keras.utils import to_categorical\n",
        "from tensorflow.keras.models import Sequential, Model\n",
        "from tensorflow.keras.layers import *\n",
        "from tensorflow.keras.callbacks import *\n",
        "from tensorflow.keras.optimizers import *"
      ],
      "metadata": {
        "id": "jwyklETJ0gxw"
      },
      "execution_count": 2,
      "outputs": []
    },
    {
      "cell_type": "code",
      "execution_count": 3,
      "metadata": {
        "id": "3DeEGeocz4kv"
      },
      "outputs": [],
      "source": [
        "BATCH_SIZE = 128\n",
        "\n",
        "seed = 666\n",
        "tf.random.set_seed(seed)\n",
        "np.random.seed(seed)\n",
        "os.environ[\"PYTHONHASHSEED\"] = str(seed)                      \n",
        "random.seed(666)"
      ]
    },
    {
      "cell_type": "code",
      "source": [
        "import os\n",
        "os.chdir(\"/content/drive/My Drive/content\")\n",
        "!ls"
      ],
      "metadata": {
        "colab": {
          "base_uri": "https://localhost:8080/"
        },
        "id": "Q9xFzlhR0MTr",
        "outputId": "38b6d810-d8ba-4b75-ac17-d44ae5fade14"
      },
      "execution_count": 4,
      "outputs": [
        {
          "output_type": "stream",
          "name": "stdout",
          "text": [
            "flowers  resnet50_weights_tf_dim_ordering_tf_kernels_notop.h5\n"
          ]
        }
      ]
    },
    {
      "cell_type": "code",
      "source": [
        "import os\n",
        "print(os.listdir('/content/drive/My Drive/content/flowers'))"
      ],
      "metadata": {
        "colab": {
          "base_uri": "https://localhost:8080/"
        },
        "id": "c1pK8e-c0ZCn",
        "outputId": "c9b99248-d439-4a71-a994-0c9d08b06451"
      },
      "execution_count": 5,
      "outputs": [
        {
          "output_type": "stream",
          "name": "stdout",
          "text": [
            "['daisy', 'sunflower', 'rose', 'tulip', 'dandelion']\n"
          ]
        }
      ]
    },
    {
      "cell_type": "code",
      "source": [
        "BATCH_SIZE = 128\n",
        "\n",
        "seed = 666\n",
        "tf.random.set_seed(seed)\n",
        "np.random.seed(seed)\n",
        "os.environ[\"PYTHONHASHSEED\"] = str(seed)                      \n",
        "random.seed(666)\n",
        "path_df = pd.DataFrame(columns = [\"img_path\", \"label\"])\n",
        "\n",
        "for flower_type in os.listdir(\"/content/drive/My Drive/content/flowers\"):\n",
        "    \n",
        "    temp = pd.DataFrame(columns = [\"img_path\", \"label\"])\n",
        "    img_path = glob.glob(f\"/content/drive/My Drive/content/flowers/{flower_type}/*.jpg\")   \n",
        "    temp[\"img_path\"] = img_path\n",
        "    temp[\"label\"] = flower_type\n",
        "    \n",
        "    path_df = pd.concat([path_df, temp])\n",
        "    \n",
        "path_df.reset_index(drop = True, inplace = True)"
      ],
      "metadata": {
        "id": "MF-Zi8JH1m5S"
      },
      "execution_count": 6,
      "outputs": []
    },
    {
      "cell_type": "code",
      "source": [
        "train_data, test_data = train_test_split(path_df, \n",
        "                                         test_size = 0.1, \n",
        "                                         stratify = path_df[\"label\"], \n",
        "                                         random_state = seed, \n",
        "                                         shuffle = True)\n",
        "\n",
        "train_data, val_data = train_test_split(train_data, \n",
        "                                        test_size = 0.12, \n",
        "                                        stratify = train_data[\"label\"], \n",
        "                                        random_state = seed, \n",
        "                                        shuffle = True)\n",
        "\n",
        "print(f\"Training set ratio: {len(train_data)/ len(path_df)}\")\n",
        "print(f\"Validation set ratio: {len(val_data)/ len(path_df)}\")\n",
        "print(f\"Test set ratio: {len(test_data)/ len(path_df)}\")"
      ],
      "metadata": {
        "colab": {
          "base_uri": "https://localhost:8080/"
        },
        "id": "LfubnO_w15GX",
        "outputId": "6c6fc753-e11c-46af-d622-5e2b08245f50"
      },
      "execution_count": 7,
      "outputs": [
        {
          "output_type": "stream",
          "name": "stdout",
          "text": [
            "Training set ratio: 0.7917535325457493\n",
            "Validation set ratio: 0.10817697475098448\n",
            "Test set ratio: 0.10006949270326616\n"
          ]
        }
      ]
    },
    {
      "cell_type": "markdown",
      "source": [
        "**Implementation on Keras (Functional API)**"
      ],
      "metadata": {
        "id": "ABWC0r_t3W5A"
      }
    },
    {
      "cell_type": "code",
      "source": [
        "INPUT_SHAPE = (227, 227, 3)\n",
        "NUM_CLASSES = 5"
      ],
      "metadata": {
        "id": "Oqvr0ePj1_Dr"
      },
      "execution_count": 8,
      "outputs": []
    },
    {
      "cell_type": "code",
      "source": [
        "def AlexNet_func(input_shape = INPUT_SHAPE, num_classes = NUM_CLASSES):\n",
        "    \n",
        "    kernel_init = tf.keras.initializers.RandomNormal(mean = 0, stddev = 0.01, seed = seed)\n",
        "    \n",
        "    \n",
        "    inputs = Input(shape = input_shape)\n",
        "    \n",
        "    conv1 = Conv2D(filters = 96, kernel_size = (11, 11), strides = 4, padding = \"same\", \n",
        "                   activation = \"relu\", kernel_initializer = kernel_init, \n",
        "                   bias_initializer = \"zeros\", name = \"conv1\")(inputs)\n",
        "    conv1 = Lambda(tf.nn.local_response_normalization)(conv1)\n",
        "    conv1 = MaxPool2D(pool_size = (3, 3), strides = 2, padding = \"valid\")(conv1)\n",
        "    \n",
        "    \n",
        "    conv2 = Conv2D(filters = 256, kernel_size = (5, 5), strides = 1, padding = \"same\", \n",
        "                   activation = \"relu\", kernel_initializer = kernel_init, \n",
        "                   bias_initializer = \"ones\", name = \"conv2\")(conv1)\n",
        "    conv2 = Lambda(tf.nn.local_response_normalization)(conv2)\n",
        "    conv2 = MaxPool2D(pool_size = (3, 3), strides = 2, padding = \"valid\")(conv2)\n",
        "    \n",
        "    \n",
        "    conv3 = Conv2D(filters = 384, kernel_size = (3, 3), strides = 1, padding = \"same\", \n",
        "                   activation = \"relu\", kernel_initializer = kernel_init, \n",
        "                   bias_initializer = \"zeros\", name = \"conv3\")(conv2)\n",
        "    conv4 = Conv2D(filters = 384, kernel_size = (3, 3), strides = 1, padding = \"same\", \n",
        "                   activation = \"relu\", kernel_initializer = kernel_init, \n",
        "                   bias_initializer = \"ones\",name = \"conv4\")(conv3)\n",
        "    conv5 = Conv2D(filters = 256, kernel_size = (3, 3), strides = 1, padding = \"same\", \n",
        "                   activation = \"relu\", kernel_initializer = kernel_init, \n",
        "                   bias_initializer = \"ones\", name = \"conv5\")(conv4)\n",
        "    conv5 = MaxPool2D(pool_size = (3, 3), strides = 2, padding = \"valid\")(conv5)\n",
        "    \n",
        "    \n",
        "    dense1 = Flatten()(conv5)\n",
        "    dense1 = Dense(units = 4096, kernel_initializer = kernel_init, \n",
        "                   bias_initializer = \"ones\", name = \"fc6\")(dense1)\n",
        "    dense1 = Dropout(0.5)(dense1)\n",
        "    \n",
        "    dense2 = Dense(units = 4096, kernel_initializer = kernel_init, \n",
        "                   bias_initializer = \"ones\", name = \"fc7\")(dense1)\n",
        "    dense2 = Dropout(0.5)(dense2)    \n",
        "\n",
        "    dense3 = Dense(units = num_classes, kernel_initializer = kernel_init, \n",
        "                   bias_initializer = \"ones\", activation = \"softmax\", name = \"fc8\")(dense2)\n",
        "    \n",
        "    \n",
        "    model = Model(inputs = inputs, outputs = dense3)\n",
        "    \n",
        "    return model"
      ],
      "metadata": {
        "id": "dk9JESPJ1-6N"
      },
      "execution_count": 9,
      "outputs": []
    },
    {
      "cell_type": "code",
      "source": [
        "optimizer = SGD(learning_rate = 0.01, momentum = 0.9, decay = 0.0005)"
      ],
      "metadata": {
        "id": "lsw0mFTy1-2x"
      },
      "execution_count": 10,
      "outputs": []
    },
    {
      "cell_type": "code",
      "source": [
        "tf.keras.backend.clear_session()\n",
        "\n",
        "model = AlexNet_func(num_classes = 1000)\n",
        "\n",
        "model.summary()"
      ],
      "metadata": {
        "colab": {
          "base_uri": "https://localhost:8080/"
        },
        "id": "QtQ2yyAQ2NsN",
        "outputId": "b8cc0a9e-68bc-4dee-bd6c-76a1c0ae0256"
      },
      "execution_count": 11,
      "outputs": [
        {
          "output_type": "stream",
          "name": "stdout",
          "text": [
            "Model: \"model\"\n",
            "_________________________________________________________________\n",
            " Layer (type)                Output Shape              Param #   \n",
            "=================================================================\n",
            " input_1 (InputLayer)        [(None, 227, 227, 3)]     0         \n",
            "                                                                 \n",
            " conv1 (Conv2D)              (None, 57, 57, 96)        34944     \n",
            "                                                                 \n",
            " lambda (Lambda)             (None, 57, 57, 96)        0         \n",
            "                                                                 \n",
            " max_pooling2d (MaxPooling2D  (None, 28, 28, 96)       0         \n",
            " )                                                               \n",
            "                                                                 \n",
            " conv2 (Conv2D)              (None, 28, 28, 256)       614656    \n",
            "                                                                 \n",
            " lambda_1 (Lambda)           (None, 28, 28, 256)       0         \n",
            "                                                                 \n",
            " max_pooling2d_1 (MaxPooling  (None, 13, 13, 256)      0         \n",
            " 2D)                                                             \n",
            "                                                                 \n",
            " conv3 (Conv2D)              (None, 13, 13, 384)       885120    \n",
            "                                                                 \n",
            " conv4 (Conv2D)              (None, 13, 13, 384)       1327488   \n",
            "                                                                 \n",
            " conv5 (Conv2D)              (None, 13, 13, 256)       884992    \n",
            "                                                                 \n",
            " max_pooling2d_2 (MaxPooling  (None, 6, 6, 256)        0         \n",
            " 2D)                                                             \n",
            "                                                                 \n",
            " flatten (Flatten)           (None, 9216)              0         \n",
            "                                                                 \n",
            " fc6 (Dense)                 (None, 4096)              37752832  \n",
            "                                                                 \n",
            " dropout (Dropout)           (None, 4096)              0         \n",
            "                                                                 \n",
            " fc7 (Dense)                 (None, 4096)              16781312  \n",
            "                                                                 \n",
            " dropout_1 (Dropout)         (None, 4096)              0         \n",
            "                                                                 \n",
            " fc8 (Dense)                 (None, 1000)              4097000   \n",
            "                                                                 \n",
            "=================================================================\n",
            "Total params: 62,378,344\n",
            "Trainable params: 62,378,344\n",
            "Non-trainable params: 0\n",
            "_________________________________________________________________\n"
          ]
        }
      ]
    },
    {
      "cell_type": "markdown",
      "source": [
        "**Implementation on Keras (Sequential)**"
      ],
      "metadata": {
        "id": "fImMr_r03MA1"
      }
    },
    {
      "cell_type": "code",
      "source": [
        "def AlexNet(input_shape = INPUT_SHAPE, num_classes = NUM_CLASSES):\n",
        "    \n",
        "    kernel_init = tf.keras.initializers.RandomNormal(mean = 0, stddev = 0.01, seed = seed)\n",
        "    \n",
        "    model = Sequential(\n",
        "        [\n",
        "            Conv2D(filters = 96, kernel_size = (11, 11), strides = 4, padding = \"same\", \n",
        "                   activation = \"relu\",  kernel_initializer = kernel_init, \n",
        "                   bias_initializer = \"zeros\", input_shape = input_shape, name = \"conv1\"),\n",
        "            Lambda(tf.nn.local_response_normalization),\n",
        "            MaxPool2D(pool_size = (3, 3), strides = 2, padding = \"valid\"),\n",
        "            \n",
        "            Conv2D(filters = 256, kernel_size = (5, 5), strides = 1, padding = \"same\", \n",
        "                   activation = \"relu\", kernel_initializer = kernel_init, \n",
        "                   bias_initializer = \"ones\", name = \"conv2\"),\n",
        "            Lambda(tf.nn.local_response_normalization),\n",
        "            MaxPool2D(pool_size = (3, 3), strides = 2, padding = \"valid\"),\n",
        "            \n",
        "            Conv2D(filters = 384, kernel_size = (3, 3), strides = 1, padding = \"same\", \n",
        "                   activation = \"relu\", kernel_initializer = kernel_init, \n",
        "                   bias_initializer = \"zeros\", name = \"conv3\"),\n",
        "            Conv2D(filters = 384, kernel_size = (3, 3), strides = 1, padding = \"same\", \n",
        "                   activation = \"relu\", kernel_initializer = kernel_init, \n",
        "                   bias_initializer = \"ones\",name = \"conv4\"),\n",
        "            Conv2D(filters = 256, kernel_size = (3, 3), strides = 1, padding = \"same\", \n",
        "                   activation = \"relu\", kernel_initializer = kernel_init, \n",
        "                   bias_initializer = \"ones\", name = \"conv5\"),\n",
        "            MaxPool2D(pool_size = (3, 3), strides = 2, padding = \"valid\"),\n",
        "            \n",
        "            Flatten(),\n",
        "            Dense(units = 4096, kernel_initializer = kernel_init, \n",
        "                  bias_initializer = \"ones\", name = \"fc6\"),\n",
        "            Dropout(0.5),\n",
        "            Dense(units = 4096, kernel_initializer = kernel_init, \n",
        "                  bias_initializer = \"ones\", name = \"fc7\"),\n",
        "            Dropout(0.5),\n",
        "            Dense(units = num_classes, kernel_initializer = kernel_init, \n",
        "                  bias_initializer = \"ones\", activation = \"softmax\", name = \"fc8\")            \n",
        "        ]\n",
        "    )\n",
        "    \n",
        "    return model"
      ],
      "metadata": {
        "id": "Vvdy2I-O2YtS"
      },
      "execution_count": 12,
      "outputs": []
    },
    {
      "cell_type": "code",
      "source": [
        "tf.keras.backend.clear_session()\n",
        "\n",
        "model = AlexNet(num_classes = 1000)\n",
        "\n",
        "model.summary()\n"
      ],
      "metadata": {
        "colab": {
          "base_uri": "https://localhost:8080/"
        },
        "id": "_2y3ZT9g2Ypo",
        "outputId": "32105da9-6fbf-4826-e117-8e0216875bd0"
      },
      "execution_count": 13,
      "outputs": [
        {
          "output_type": "stream",
          "name": "stdout",
          "text": [
            "Model: \"sequential\"\n",
            "_________________________________________________________________\n",
            " Layer (type)                Output Shape              Param #   \n",
            "=================================================================\n",
            " conv1 (Conv2D)              (None, 57, 57, 96)        34944     \n",
            "                                                                 \n",
            " lambda (Lambda)             (None, 57, 57, 96)        0         \n",
            "                                                                 \n",
            " max_pooling2d (MaxPooling2D  (None, 28, 28, 96)       0         \n",
            " )                                                               \n",
            "                                                                 \n",
            " conv2 (Conv2D)              (None, 28, 28, 256)       614656    \n",
            "                                                                 \n",
            " lambda_1 (Lambda)           (None, 28, 28, 256)       0         \n",
            "                                                                 \n",
            " max_pooling2d_1 (MaxPooling  (None, 13, 13, 256)      0         \n",
            " 2D)                                                             \n",
            "                                                                 \n",
            " conv3 (Conv2D)              (None, 13, 13, 384)       885120    \n",
            "                                                                 \n",
            " conv4 (Conv2D)              (None, 13, 13, 384)       1327488   \n",
            "                                                                 \n",
            " conv5 (Conv2D)              (None, 13, 13, 256)       884992    \n",
            "                                                                 \n",
            " max_pooling2d_2 (MaxPooling  (None, 6, 6, 256)        0         \n",
            " 2D)                                                             \n",
            "                                                                 \n",
            " flatten (Flatten)           (None, 9216)              0         \n",
            "                                                                 \n",
            " fc6 (Dense)                 (None, 4096)              37752832  \n",
            "                                                                 \n",
            " dropout (Dropout)           (None, 4096)              0         \n",
            "                                                                 \n",
            " fc7 (Dense)                 (None, 4096)              16781312  \n",
            "                                                                 \n",
            " dropout_1 (Dropout)         (None, 4096)              0         \n",
            "                                                                 \n",
            " fc8 (Dense)                 (None, 1000)              4097000   \n",
            "                                                                 \n",
            "=================================================================\n",
            "Total params: 62,378,344\n",
            "Trainable params: 62,378,344\n",
            "Non-trainable params: 0\n",
            "_________________________________________________________________\n"
          ]
        }
      ]
    },
    {
      "cell_type": "markdown",
      "source": [
        "**Prediction**"
      ],
      "metadata": {
        "id": "vdSQet3t3AAw"
      }
    },
    {
      "cell_type": "code",
      "source": [
        "def AlexNet2(input_shape = INPUT_SHAPE, num_classes = NUM_CLASSES):\n",
        "    \n",
        "    kernel_init = tf.keras.initializers.RandomNormal(mean = 0, stddev = 0.01, seed = seed)\n",
        "    \n",
        "    model = Sequential(\n",
        "        [\n",
        "            Conv2D(filters = 96, kernel_size = (11, 11), strides = 4, padding = \"same\", \n",
        "                   activation = \"relu\", kernel_initializer = kernel_init, \n",
        "                   input_shape = input_shape, name = \"conv1\"),\n",
        "            Lambda(tf.nn.local_response_normalization),\n",
        "            MaxPool2D(pool_size = (3, 3), strides = 2, padding = \"valid\"),\n",
        "            \n",
        "            Conv2D(filters = 256, kernel_size = (5, 5), strides = 1, padding = \"same\", \n",
        "                   activation = \"relu\", kernel_initializer = kernel_init, name = \"conv2\"),\n",
        "            Lambda(tf.nn.local_response_normalization),\n",
        "            MaxPool2D(pool_size = (3, 3), strides = 2, padding = \"valid\"),\n",
        "            \n",
        "            Conv2D(filters = 384, kernel_size = (3, 3), strides = 1, padding = \"same\", \n",
        "                   activation = \"relu\", kernel_initializer = kernel_init, name = \"conv3\"),\n",
        "            Conv2D(filters = 384, kernel_size = (3, 3), strides = 1, padding = \"same\", \n",
        "                   activation = \"relu\", kernel_initializer = kernel_init, name = \"conv4\"),\n",
        "            Conv2D(filters = 256, kernel_size = (3, 3), strides = 1, padding = \"same\", \n",
        "                   activation = \"relu\", kernel_initializer = kernel_init, name = \"conv5\"),\n",
        "            MaxPool2D(pool_size = (3, 3), strides = 2, padding = \"valid\"),\n",
        "            \n",
        "            Flatten(),\n",
        "            Dense(units = 4096, kernel_initializer = kernel_init, name = \"fc6\"),\n",
        "            Dropout(0.5),\n",
        "            Dense(units = 4096, kernel_initializer = kernel_init, name = \"fc7\"),\n",
        "            Dropout(0.5),\n",
        "            Dense(units = num_classes, kernel_initializer = kernel_init, \n",
        "                  activation = \"softmax\", name = \"fc8\")            \n",
        "        ]\n",
        "    )\n",
        "    \n",
        "    return model"
      ],
      "metadata": {
        "id": "oCED9U4M2YlK"
      },
      "execution_count": 14,
      "outputs": []
    },
    {
      "cell_type": "code",
      "source": [
        "tf.keras.backend.clear_session()\n",
        "\n",
        "model = AlexNet2()\n",
        "\n",
        "model.summary()"
      ],
      "metadata": {
        "colab": {
          "base_uri": "https://localhost:8080/"
        },
        "id": "kZ7ISIHP2Yhx",
        "outputId": "9301331b-db6f-4ab6-be97-231f617f861a"
      },
      "execution_count": 15,
      "outputs": [
        {
          "output_type": "stream",
          "name": "stdout",
          "text": [
            "Model: \"sequential\"\n",
            "_________________________________________________________________\n",
            " Layer (type)                Output Shape              Param #   \n",
            "=================================================================\n",
            " conv1 (Conv2D)              (None, 57, 57, 96)        34944     \n",
            "                                                                 \n",
            " lambda (Lambda)             (None, 57, 57, 96)        0         \n",
            "                                                                 \n",
            " max_pooling2d (MaxPooling2D  (None, 28, 28, 96)       0         \n",
            " )                                                               \n",
            "                                                                 \n",
            " conv2 (Conv2D)              (None, 28, 28, 256)       614656    \n",
            "                                                                 \n",
            " lambda_1 (Lambda)           (None, 28, 28, 256)       0         \n",
            "                                                                 \n",
            " max_pooling2d_1 (MaxPooling  (None, 13, 13, 256)      0         \n",
            " 2D)                                                             \n",
            "                                                                 \n",
            " conv3 (Conv2D)              (None, 13, 13, 384)       885120    \n",
            "                                                                 \n",
            " conv4 (Conv2D)              (None, 13, 13, 384)       1327488   \n",
            "                                                                 \n",
            " conv5 (Conv2D)              (None, 13, 13, 256)       884992    \n",
            "                                                                 \n",
            " max_pooling2d_2 (MaxPooling  (None, 6, 6, 256)        0         \n",
            " 2D)                                                             \n",
            "                                                                 \n",
            " flatten (Flatten)           (None, 9216)              0         \n",
            "                                                                 \n",
            " fc6 (Dense)                 (None, 4096)              37752832  \n",
            "                                                                 \n",
            " dropout (Dropout)           (None, 4096)              0         \n",
            "                                                                 \n",
            " fc7 (Dense)                 (None, 4096)              16781312  \n",
            "                                                                 \n",
            " dropout_1 (Dropout)         (None, 4096)              0         \n",
            "                                                                 \n",
            " fc8 (Dense)                 (None, 5)                 20485     \n",
            "                                                                 \n",
            "=================================================================\n",
            "Total params: 58,301,829\n",
            "Trainable params: 58,301,829\n",
            "Non-trainable params: 0\n",
            "_________________________________________________________________\n"
          ]
        }
      ]
    },
    {
      "cell_type": "code",
      "source": [
        "train_datagen = ImageDataGenerator(\n",
        "    rescale = 1./255,\n",
        "    rotation_range = 15, \n",
        "    zoom_range = 0.15,\n",
        "    horizontal_flip = True\n",
        ")\n",
        "\n",
        "val_datagen = ImageDataGenerator(\n",
        "    rescale = 1./255,\n",
        ")\n",
        "\n",
        "test_datagen = ImageDataGenerator(\n",
        "    rescale = 1./255,\n",
        ")"
      ],
      "metadata": {
        "id": "r0u-3Tqq2Yam"
      },
      "execution_count": 16,
      "outputs": []
    },
    {
      "cell_type": "code",
      "source": [
        "train_generator = train_datagen.flow_from_dataframe(\n",
        "    dataframe = train_data,\n",
        "    x_col = \"img_path\",\n",
        "    y_col = \"label\",\n",
        "    class_mode = \"categorical\",\n",
        "    target_size = (227, 227),\n",
        "    batch_size = BATCH_SIZE,\n",
        "    seed = 666,\n",
        ")\n",
        "\n",
        "val_generator = val_datagen.flow_from_dataframe(\n",
        "    dataframe = val_data,\n",
        "    x_col = \"img_path\",\n",
        "    y_col = \"label\",\n",
        "    class_mode = \"categorical\",\n",
        "    target_size = (227, 227),\n",
        "    batch_size = BATCH_SIZE,\n",
        "    seed = 666,\n",
        "    shuffle = False\n",
        ")"
      ],
      "metadata": {
        "colab": {
          "base_uri": "https://localhost:8080/"
        },
        "id": "s4J5thNTxyx2",
        "outputId": "69d8eb11-864b-40a2-c13b-f3de72d4262c"
      },
      "execution_count": 17,
      "outputs": [
        {
          "output_type": "stream",
          "name": "stdout",
          "text": [
            "Found 3418 validated image filenames belonging to 5 classes.\n",
            "Found 467 validated image filenames belonging to 5 classes.\n"
          ]
        }
      ]
    },
    {
      "cell_type": "code",
      "source": [
        "reduce_lr = ReduceLROnPlateau(\n",
        "    monitor = \"val_accuracy\", \n",
        "    patience = 3,\n",
        "    verbose = 1, \n",
        "    factor = 0.8, \n",
        "    min_lr = 0.000000001\n",
        ")"
      ],
      "metadata": {
        "id": "UqzaxqeIx8dZ"
      },
      "execution_count": 18,
      "outputs": []
    },
    {
      "cell_type": "code",
      "source": [
        "# model.compile(loss = \"categorical_crossentropy\", optimizer = optimizer, metrics = \"accuracy\")\n",
        "model.compile(loss = \"categorical_crossentropy\", optimizer = Adam(learning_rate=0.0001), metrics = \"accuracy\")\n",
        "\n",
        "\n",
        "history = model.fit(train_generator, batch_size = BATCH_SIZE, epochs = 10,\n",
        "                    validation_data = (val_generator),\n",
        "                    callbacks = [reduce_lr])"
      ],
      "metadata": {
        "colab": {
          "base_uri": "https://localhost:8080/"
        },
        "id": "cH7V0jmex8ji",
        "outputId": "f24bc0d6-4d1e-4707-c2f6-964ede3cace2"
      },
      "execution_count": 19,
      "outputs": [
        {
          "output_type": "stream",
          "name": "stdout",
          "text": [
            "Epoch 1/10\n",
            "27/27 [==============================] - 1254s 47s/step - loss: 1.5694 - accuracy: 0.2703 - val_loss: 1.4617 - val_accuracy: 0.3512 - lr: 1.0000e-04\n",
            "Epoch 2/10\n",
            "27/27 [==============================] - 621s 23s/step - loss: 1.2987 - accuracy: 0.4008 - val_loss: 1.2896 - val_accuracy: 0.4090 - lr: 1.0000e-04\n",
            "Epoch 3/10\n",
            "27/27 [==============================] - 615s 23s/step - loss: 1.1928 - accuracy: 0.4713 - val_loss: 1.1366 - val_accuracy: 0.4818 - lr: 1.0000e-04\n",
            "Epoch 4/10\n",
            "27/27 [==============================] - 622s 23s/step - loss: 1.1459 - accuracy: 0.5135 - val_loss: 1.0973 - val_accuracy: 0.5632 - lr: 1.0000e-04\n",
            "Epoch 5/10\n",
            "27/27 [==============================] - 617s 23s/step - loss: 1.0462 - accuracy: 0.5749 - val_loss: 1.0252 - val_accuracy: 0.5846 - lr: 1.0000e-04\n",
            "Epoch 6/10\n",
            "27/27 [==============================] - 621s 23s/step - loss: 0.9854 - accuracy: 0.6009 - val_loss: 0.9427 - val_accuracy: 0.6381 - lr: 1.0000e-04\n",
            "Epoch 7/10\n",
            "27/27 [==============================] - 619s 23s/step - loss: 0.9308 - accuracy: 0.6334 - val_loss: 0.8954 - val_accuracy: 0.6424 - lr: 1.0000e-04\n",
            "Epoch 8/10\n",
            "27/27 [==============================] - 616s 23s/step - loss: 0.8852 - accuracy: 0.6533 - val_loss: 0.8931 - val_accuracy: 0.6595 - lr: 1.0000e-04\n",
            "Epoch 9/10\n",
            "27/27 [==============================] - 629s 23s/step - loss: 0.8864 - accuracy: 0.6533 - val_loss: 0.8440 - val_accuracy: 0.6745 - lr: 1.0000e-04\n",
            "Epoch 10/10\n",
            "27/27 [==============================] - 623s 23s/step - loss: 0.8543 - accuracy: 0.6659 - val_loss: 0.8307 - val_accuracy: 0.6745 - lr: 1.0000e-04\n"
          ]
        }
      ]
    },
    {
      "cell_type": "code",
      "source": [
        "fig, axes = plt.subplots(1, 2, figsize = (12, 4))\n",
        "\n",
        "sns.lineplot(x = range(len(history.history[\"loss\"])), y = history.history[\"loss\"], ax = axes[0], label = \"Training Loss\")\n",
        "sns.lineplot(x = range(len(history.history[\"loss\"])), y = history.history[\"val_loss\"], ax = axes[0], label = \"Validation Loss\")\n",
        "\n",
        "sns.lineplot(x = range(len(history.history[\"accuracy\"])), y = history.history[\"accuracy\"], ax = axes[1], label = \"Training Accuracy\")\n",
        "sns.lineplot(x = range(len(history.history[\"accuracy\"])), y = history.history[\"val_accuracy\"], ax = axes[1], label = \"Validation Accuracy\")\n",
        "axes[0].set_title(\"Loss\"); axes[1].set_title(\"Accuracy\")\n",
        "\n",
        "sns.despine()\n",
        "plt.show()"
      ],
      "metadata": {
        "colab": {
          "base_uri": "https://localhost:8080/",
          "height": 281
        },
        "id": "eQpMyBBzyH5Y",
        "outputId": "486443b5-9f35-42f8-eaf4-df4e4998883b"
      },
      "execution_count": 20,
      "outputs": [
        {
          "output_type": "display_data",
          "data": {
            "text/plain": [
              "<Figure size 864x288 with 2 Axes>"
            ],
            "image/png": "[encoded data removed]"
          },
          "metadata": {
            "needs_background": "light"
          }
        }
      ]
    },
    {
      "cell_type": "markdown",
      "source": [
        "**Testing**"
      ],
      "metadata": {
        "id": "R9WgZ9-K2zR3"
      }
    },
    {
      "cell_type": "code",
      "source": [
        "test_generator = test_datagen.flow_from_dataframe(\n",
        "    dataframe = test_data,\n",
        "    x_col = \"img_path\",\n",
        "    y_col = \"label\",\n",
        "    class_mode = \"categorical\",\n",
        "    target_size = (227, 227),\n",
        "    batch_size = BATCH_SIZE,\n",
        "    seed = 666,\n",
        "    shuffle = False\n",
        ")"
      ],
      "metadata": {
        "colab": {
          "base_uri": "https://localhost:8080/"
        },
        "id": "lWz5uYRO21VR",
        "outputId": "b992550c-ded3-490d-aee0-d4933c2e074c"
      },
      "execution_count": 21,
      "outputs": [
        {
          "output_type": "stream",
          "name": "stdout",
          "text": [
            "Found 432 validated image filenames belonging to 5 classes.\n"
          ]
        }
      ]
    },
    {
      "cell_type": "code",
      "source": [
        "test_pred = model.predict(test_generator, steps = np.ceil(test_data.shape[0] / BATCH_SIZE))\n",
        "test_data.loc[:, \"test_pred\"] = np.argmax(test_pred, axis = 1)\n",
        "\n",
        "labels = dict((v, k) for k, v in test_generator.class_indices.items())\n",
        "\n",
        "test_data.loc[:, \"test_pred\"] = test_data.loc[:, \"test_pred\"].map(labels)"
      ],
      "metadata": {
        "colab": {
          "base_uri": "https://localhost:8080/"
        },
        "id": "Tp3B7kk425tc",
        "outputId": "6e951bbe-a8fb-4712-e88a-ccb0b0a7ad6f"
      },
      "execution_count": null,
      "outputs": [
        {
          "output_type": "stream",
          "name": "stdout",
          "text": [
            "4/4 [==============================] - 92s 29s/step\n"
          ]
        }
      ]
    }
  ]
}